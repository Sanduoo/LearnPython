{
 "cells": [
  {
   "cell_type": "markdown",
   "metadata": {},
   "source": [
    "#### Cifar10数据集：\n",
    "    提供 5万张 32*32 像素点的十分类彩色图片和标签，用于训练。\n",
    "    提供 1万张 32*32 像素点的十分类彩色图片和标签，用于测试。\n",
    "    \n",
    "    code:\n",
    "    导入cifar10数据集：\n",
    "    cifar10 = tf.keras.datasets.cifar10\n",
    "    (x_train, y_train),(x_test, y_test) = cifar10.load_data()\n"
   ]
  },
  {
   "cell_type": "code",
   "execution_count": null,
   "metadata": {},
   "outputs": [],
   "source": [
    "import tensorflow as tf\n",
    "from matplotlib import pyplot as plt\n",
    "import numpy as np\n",
    "\n",
    "np.set_printoptions(threshold=np.inf)\n",
    "\n",
    "cifar10 = tf.keras.datasets.cifar10\n",
    "(x_train, y_train), (x_test, y_test) = cifar10.load_data()\n",
    "\n",
    "# 可视化训练集输入特征的第一个元素\n",
    "plt.imshow(x_train[0])  # 绘制图片\n",
    "plt.show()\n",
    "\n",
    "# 打印出训练集输入特征的第一个元素\n",
    "print(\"x_train[0]:\\n\", x_train[0])\n",
    "# 打印出训练集标签的第一个元素\n",
    "print(\"y_train[0]:\\n\", y_train[0])\n",
    "\n",
    "# 打印出整个训练集输入特征形状\n",
    "print(\"x_train.shape:\\n\", x_train.shape)\n",
    "# 打印出整个训练集标签的形状\n",
    "print(\"y_train.shape:\\n\", y_train.shape)\n",
    "# 打印出整个测试集输入特征的形状\n",
    "print(\"x_test.shape:\\n\", x_test.shape)\n",
    "# 打印出整个测试集标签的形状\n",
    "print(\"y_test.shape:\\n\", y_test.shape)\n"
   ]
  },
  {
   "cell_type": "code",
   "execution_count": null,
   "metadata": {},
   "outputs": [],
   "source": []
  }
 ],
 "metadata": {
  "kernelspec": {
   "display_name": "Python 3",
   "language": "python",
   "name": "python3"
  }
 },
 "nbformat": 4,
 "nbformat_minor": 4
}
