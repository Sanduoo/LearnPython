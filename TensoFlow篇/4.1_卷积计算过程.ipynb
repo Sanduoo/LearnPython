{
 "cells": [
  {
   "cell_type": "markdown",
   "metadata": {},
   "source": [
    "### 卷积计算过程\n",
    "\n",
    "    卷积计算可认为是一种有效提取图像特征的方法\n",
    "    一般会用一个正方形的卷积核，按指定步长，在输入特征图上滑动，\n",
    "    遍历输入特征图中的每个像素点。每一个步长，卷积核会与输入\n",
    "    特征图出现重合区域，重合区域对应元素相乘、求和再加上偏置项\n",
    "    得到输出特征的一个像素点。\n",
    "    \n",
    "    输入特征图的深度（channel数）决定了当前层卷积核的深度；\n",
    "    当前层卷积核的个数，决定了当前层输出特征图的深度。\n",
    "    \n",
    "    \n",
    "    3*3*1卷积核\n",
    "    每个核3*3*1+1=10个参数\n",
    "    \n",
    "    3*3*3卷积核\n",
    "    每个核3*3*3+1=28个参数\n",
    "    \n",
    "    5*5*3卷积核\n",
    "    每个核5*5*3+1=76个参数\n",
    "\n",
    "    输入特征图→卷积核→输出特征图"
   ]
  }
 ],
 "metadata": {
  "kernelspec": {
   "display_name": "Python 3",
   "language": "python",
   "name": "python3"
  },
  "language_info": {
   "codemirror_mode": {
    "name": "ipython",
    "version": 3
   },
   "file_extension": ".py",
   "mimetype": "text/x-python",
   "name": "python",
   "nbconvert_exporter": "python",
   "pygments_lexer": "ipython3",
   "version": "3.7.6"
  }
 },
 "nbformat": 4,
 "nbformat_minor": 4
}
