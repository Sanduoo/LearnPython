{
 "cells": [
  {
   "cell_type": "code",
   "execution_count": null,
   "metadata": {},
   "outputs": [],
   "source": [
    "# 滑动平均（影子值）：记录了每个参数一段时间内过往值的平均，增加了模型的泛化。\n",
    "# 针对所有参数：w和b\n",
    "# 影子/滑动平均值 = 衰减率*影子+（1-衰减率）*参数\n",
    "# 影子初值=参数初值\n",
    "# 衰减率=min{MOVING_AVERAGE_DECAY,(1+轮数)/（10+轮数）}\n",
    "#     →ema = tf.train.ExponentialMovingAverage(MOVING_AVERAGE_DECAY,global_step当前轮数)\n",
    "#     ema_op = ema.apply([])→ema_op = ema.apply(tf.trainable_variables())   所有待优化的参数求滑动平均\n",
    "#     with tf.control_dependencies([train_step,ema_op]):\n",
    "#         train_op = tf.no_op(name='train')\n",
    "        \n",
    "#     ema.average(参数名)  查看某个参数的滑动平均值"
   ]
  },
  {
   "cell_type": "code",
   "execution_count": 1,
   "metadata": {},
   "outputs": [
    {
     "name": "stdout",
     "output_type": "stream",
     "text": [
      "WARNING:tensorflow:From C:\\development\\Anaconda\\envs\\TF2.1\\lib\\site-packages\\tensorflow_core\\python\\compat\\v2_compat.py:88: disable_resource_variables (from tensorflow.python.ops.variable_scope) is deprecated and will be removed in a future version.\n",
      "Instructions for updating:\n",
      "non-resource variables are not supported in the long term\n"
     ]
    }
   ],
   "source": [
    "import tensorflow.compat.v1 as tf\n",
    "tf.disable_v2_behavior()"
   ]
  },
  {
   "cell_type": "code",
   "execution_count": 3,
   "metadata": {},
   "outputs": [
    {
     "name": "stdout",
     "output_type": "stream",
     "text": [
      "WARNING:tensorflow:From C:\\development\\Anaconda\\envs\\TF2.1\\lib\\site-packages\\tensorflow_core\\python\\training\\moving_averages.py:433: Variable.initialized_value (from tensorflow.python.ops.variables) is deprecated and will be removed in a future version.\n",
      "Instructions for updating:\n",
      "Use Variable.read_value. Variables in 2.X are initialized automatically both in eager and graph (inside tf.defun) contexts.\n"
     ]
    }
   ],
   "source": [
    "# 定义变量及滑动平均类\n",
    "# 定义一个32位浮点变量，初始值为0.0，这个代码可以不断更新优化w1参数，滑动平均做了一个w1的影子\n",
    "w1 = tf.Variable(0,dtype=tf.float32)\n",
    "# 定义一个迭代计数器\n",
    "global_step = tf.Variable(0,trainable=False)\n",
    "# 实例化滑动平均类，初始值为0.99\n",
    "MOVING_AVERAGE_DECAY = 0.99\n",
    "ema = tf.train.ExponentialMovingAverage(MOVING_AVERAGE_DECAY,global_step)\n",
    "# ema.apply()更新参数，每次运行sess.run(ema_op)时，对apply（）中的参数求滑动平均值\n",
    "# 在实际中使用ema.apply(tf.trainable_variables())将所有待训练的参数汇为列表\n",
    "ema_op = ema.apply(tf.trainable_variables())"
   ]
  },
  {
   "cell_type": "code",
   "execution_count": 12,
   "metadata": {},
   "outputs": [
    {
     "name": "stdout",
     "output_type": "stream",
     "text": [
      "[0.0, 0.0]\n",
      "[1.0, 0.9]\n",
      "[10.0, 1.6445453]\n",
      "[10.0, 2.3281732]\n",
      "[10.0, 2.955868]\n",
      "[10.0, 3.532206]\n",
      "[10.0, 4.061389]\n",
      "[10.0, 4.547275]\n",
      "[10.0, 4.9934072]\n",
      "[10.0, 5.4030375]\n",
      "[10.0, 5.7791524]\n"
     ]
    }
   ],
   "source": [
    "# 查看不同迭代中参数的变化\n",
    "with tf.Session() as sess:\n",
    "    #初始化\n",
    "    init_op = tf.global_variables_initializer()\n",
    "    sess.run(init_op)\n",
    "    # 用ema.average(w1)获取w1滑动平均值\n",
    "    # 打印当前w1值和w1的滑动平均值\n",
    "    print(sess.run([w1,ema.average(w1)]))\n",
    "    \n",
    "    \n",
    "\n",
    "    sess.run(tf.assign(w1,1))\n",
    "    sess.run(ema_op)\n",
    "    print(sess.run([w1,ema.average(w1)]))\n",
    "    \n",
    "\n",
    "    sess.run(tf.assign(global_step,100))\n",
    "    sess.run(tf.assign(w1,10))\n",
    "    sess.run(ema_op)\n",
    "    print(sess.run([w1,ema.average(w1)]))\n",
    "\n",
    "    sess.run(ema_op)\n",
    "    print(sess.run([w1,ema.average(w1)]))\n",
    "    \n",
    "    sess.run(ema_op)\n",
    "    print(sess.run([w1,ema.average(w1)]))\n",
    "    \n",
    "    sess.run(ema_op)\n",
    "    print(sess.run([w1,ema.average(w1)]))\n",
    "    sess.run(ema_op)\n",
    "    print(sess.run([w1,ema.average(w1)]))\n",
    "    sess.run(ema_op)\n",
    "    print(sess.run([w1,ema.average(w1)]))\n",
    "    sess.run(ema_op)\n",
    "    print(sess.run([w1,ema.average(w1)]))\n",
    "    sess.run(ema_op)\n",
    "    print(sess.run([w1,ema.average(w1)]))\n",
    "    sess.run(ema_op)\n",
    "    print(sess.run([w1,ema.average(w1)]))"
   ]
  },
  {
   "cell_type": "code",
   "execution_count": null,
   "metadata": {},
   "outputs": [],
   "source": []
  }
 ],
 "metadata": {
  "kernelspec": {
   "display_name": "Python 3",
   "language": "python",
   "name": "python3"
  },
  "language_info": {
   "codemirror_mode": {
    "name": "ipython",
    "version": 3
   },
   "file_extension": ".py",
   "mimetype": "text/x-python",
   "name": "python",
   "nbconvert_exporter": "python",
   "pygments_lexer": "ipython3",
   "version": "3.7.6"
  }
 },
 "nbformat": 4,
 "nbformat_minor": 4
}
