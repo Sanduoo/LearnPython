{
 "cells": [
  {
   "cell_type": "markdown",
   "metadata": {},
   "source": [
    "#### 经典卷积神经网络小结\n",
    "\n",
    "    LeNet1998：卷积网络开篇之作，共享卷积核，减少网络参数\n",
    "    AlexNet2012：使用relu激活函数，提升训练速度；使用Dropout，缓解过拟合\n",
    "    VGGNet2014：小尺寸卷积核减少参数，网络结构规整，适合并行加速\n",
    "    InceptionNet2014：一层内使用不同尺寸卷积核，提升感知力使用批标准化，缓解梯度消\n",
    "    ResNet2015：层间残差跳连，引入前方信息，缓解模型退化，使神经网络层数加深成为可能"
   ]
  }
 ],
 "metadata": {
  "kernelspec": {
   "display_name": "Python 3",
   "language": "python",
   "name": "python3"
  },
  "language_info": {
   "codemirror_mode": {
    "name": "ipython",
    "version": 3
   },
   "file_extension": ".py",
   "mimetype": "text/x-python",
   "name": "python",
   "nbconvert_exporter": "python",
   "pygments_lexer": "ipython3",
   "version": "3.7.6"
  }
 },
 "nbformat": 4,
 "nbformat_minor": 4
}
